{
 "cells": [
  {
   "cell_type": "code",
   "execution_count": null,
   "metadata": {},
   "outputs": [],
   "source": [
    "#Your objective is to build a series of scatter plots to showcase the following relationships:\n",
    "\n",
    "\n",
    "#Temperature (F) vs. Latitude\n",
    "#Humidity (%) vs. Latitude\n",
    "#Cloudiness (%) vs. Latitude\n",
    "#Wind Speed (mph) vs. Latitude\n",
    "\n",
    "#Your final notebook must:\n",
    "\n",
    "\n",
    "## Randomly select at least 500 unique (non-repeat) cities based on latitude and longitude.\n",
    "## Perform a weather check on each of the cities using a series of successive API calls.\n",
    "## Include a print log of each city as it's being processed with the city number and city name.\n",
    "## Save both a CSV of all data retrieved and png images for each scatter plot.\n",
    "\n",
    "\n",
    "#As final considerations:\n",
    "\n",
    "\n",
    "## You must complete your analysis using a Jupyter notebook.\n",
    "## You must use the Matplotlib or Pandas plotting libraries.\n",
    "## You must include a written description of three observable trends based on the data.\n",
    "## You must use proper labeling of your plots, including aspects like: Plot Titles (with date of analysis) and Axes Labels.\n",
    "# with gridlines\n"
   ]
  },
  {
   "cell_type": "code",
   "execution_count": 21,
   "metadata": {},
   "outputs": [],
   "source": [
    "# Dependencies and Setup\n",
    "import matplotlib.pyplot as plt\n",
    "import pandas as pd\n",
    "import numpy as np\n",
    "import requests\n",
    "import time\n",
    "import json\n",
    "import requests\n",
    "\n",
    "\n",
    "# Incorporated citipy to determine city based on latitude and longitude\n",
    "from citipy import citipy\n",
    "\n",
    "# Output File (CSV)\n",
    "output_data_file = \"output_data/cities.csv\"\n",
    "\n",
    "# Range of latitudes and longitudes\n",
    "lat_range = (-90, 90)\n",
    "lng_range = (-180, 180)\n",
    "\n"
   ]
  },
  {
   "cell_type": "code",
   "execution_count": 22,
   "metadata": {},
   "outputs": [],
   "source": [
    "from config import api_key"
   ]
  },
  {
   "cell_type": "code",
   "execution_count": 31,
   "metadata": {},
   "outputs": [],
   "source": [
    "\n",
    "\n",
    "# Starting URL for Weather Map API Call\n",
    "#url = \"http://api.openweathermap.org/data/2.5/weather?units=Imperial&APPID=\" + api_key\n",
    "\n",
    "\n",
    "\n"
   ]
  },
  {
   "cell_type": "code",
   "execution_count": 23,
   "metadata": {},
   "outputs": [],
   "source": [
    "# Save config information.\n",
    "url = \"http://api.openweathermap.org/data/2.5/weather?\"\n",
    "units = \"Imperial\"\n",
    "\n",
    "# Build partial query URL\n",
    "query_url = f\"{url}appid={api_key}&units={units}&q=\""
   ]
  },
  {
   "cell_type": "code",
   "execution_count": 12,
   "metadata": {},
   "outputs": [],
   "source": [
    "# testing citipy\n",
    "\n",
    "#city = citipy.nearest_city(0, 0)\n",
    "\n",
    "#city.city_name"
   ]
  },
  {
   "cell_type": "code",
   "execution_count": 24,
   "metadata": {},
   "outputs": [],
   "source": [
    "# List for holding lat_lngs and cities\n",
    "lat_lngs = []\n",
    "cities = []\n",
    "\n",
    "# Create a set of random lat and lng combinations\n",
    "lats = np.random.uniform(low=-90.000, high=90.000, size=1500)\n",
    "lngs = np.random.uniform(low=-180.000, high=180.000, size=1500)\n",
    "lat_lngs = zip(lats, lngs)\n",
    "\n",
    "# Identify nearest city for each lat, lng combination\n",
    "for lat_lng in lat_lngs:\n",
    "    city = citipy.nearest_city(lat_lng[0], lat_lng[1]).city_name\n",
    "    \n",
    "    # If the city is unique, then add it to a our cities list\n",
    "    if city not in cities:\n",
    "        cities.append(city)\n",
    "\n",
    "# Print the city count to confirm sufficient count\n",
    "# len(cities)\n",
    "\n"
   ]
  },
  {
   "cell_type": "code",
   "execution_count": 48,
   "metadata": {},
   "outputs": [
    {
     "name": "stdout",
     "output_type": "stream",
     "text": [
      "['rikitea', 'san cristobal', 'te anau', 'jamestown', 'ushuaia', 'necochea', 'taft', 'bredasdorp', 'atuona', 'kulhudhuffushi', 'illoqqortoormiut', 'codrington', 'avarua', 'yunjinghong', 'cabo san lucas', 'solnechnyy', 'khasan', 'kiruna', 'half moon bay', 'puerto ayora', 'pachalum', 'tezu', 'dikson', 'mouzouras', 'ponta do sol', 'nabire', 'dhidhdhoo', 'bolungarvik', 'jalu', 'mahebourg', 'punta arenas', 'sisophon', 'hithadhoo', 'busselton', 'hammerfest', 'kapaa', 'saleaula', 'kahului', 'zaranj', 'barrow', 'caravelas', 'fairbanks', 'carauari', 'touros', 'komsomolskiy', 'hermanus', 'castro', 'karaul', 'kaitangata', 'albany', 'taolanaro', 'tasiilaq', 'volchansk', 'belushya guba', 'hobart', 'esperance', 'khilok', 'shiraz', 'avera', 'saint-philippe', 'vardo', 'vaini', 'basco', 'airai', 'tabulbah', 'sosnovo-ozerskoye', 'matay', 'iralaya', 'fare', 'norman wells', 'hamilton', 'ulundi', 'benque viejo', 'diamantino', 'chokurdakh', 'axim', 'tiksi', 'provideniya', 'mys shmidta', 'khatanga', 'leningradskiy', 'hilo', 'katsuura', 'grimshaw', 'sioux lookout', 'ticusul', 'san angelo', 'bethel', 'marsa matruh', 'zyryanka', 'geraldton', 'jishou', 'nowy dwor gdanski', 'yellowknife', 'wattegama', 'milingimbi', 'haines junction', 'bonfim', 'nikolskoye', 'batagay-alyta', 'bandarbeyla', 'skjern', 'lolua', 'chagda', 'port alfred', 'georgetown', 'ola', 'mataura', 'riyadh', 'sibolga', 'hami', 'tuktoyaktuk', 'ossora', 'mo i rana', 'longyearbyen', 'panji', 'kenai', 'clyde river', 'kachiry', 'naze', 'sao raimundo nonato', 'campoverde', 'rosarito', 'butaritari', 'makungu', 'grand gaube', 'sao felix do xingu', 'pimentel', 'milkovo', 'san francisco', 'nueva helvecia', 'boyarka', 'nantucket', 'lasa', 'chapais', 'amderma', 'east london', 'port elizabeth', 'xuddur', 'mandalgovi', 'moyo', 'cidreira', 'le vauclin', 'yangambi', 'prince rupert', 'saskylakh', 'nizhniy kuranakh', 'ahipara', 'altay', 'kavieng', 'new norfolk', 'samusu', 'guangshui', 'namtsy', 'liseleje', 'sorland', 'kamenskoye', 'barentsburg', 'baykalovo', 'lakatoro', 'torbay', 'attawapiskat', 'bluff', 'sitka', 'stephenville crossing', 'luganville', 'alice springs', 'los llanos de aridane', 'vao', 'ranong', 'whitehorse', 'upata', 'thompson', 'lakselv', 'lompoc', 'santa fe', 'san bernardo', 'qaanaaq', 'mountain home', 'gazanjyk', 'kalmunai', 'salalah', 'maple creek', 'beloha', 'arraial do cabo', 'carnarvon', 'jumla', 'guerrero negro', 'ouadda', 'port-gentil', 'barahona', 'tuatapere', 'poya', 'marcona', 'saint-georges', 'padang', 'port hardy', 'lazo', 'cape town', 'morondava', 'maceio', 'gboko', 'bastrop', 'bolshaya chernigovka', 'saldanha', 'kizema', 'plettenberg bay', 'bonavista', 'acarau', 'scarborough', 'ugoofaaru', 'takoradi', 'moroni', 'faya', 'uvat', 'port augusta', 'victoria', 'husavik', 'meyungs', 'wewak', 'tidore', 'sedelnikovo', 'sentyabrskiy', 'kachug', 'agirish', 'acapulco', 'bage', 'aklavik', 'saint-augustin', 'tutoia', 'souillac', 'ilulissat', 'bambous virieux', 'huilong', 'campana', 'awbari', 'qaqortoq', 'mayo', 'samarinda', 'crab hill', 'gunjur', 'sakakah', 'shenjiamen', 'bokajan', 'mar del plata', 'faanui', 'narasannapeta', 'coihaique', 'ambon', 'kidal', 'navahrudak', 'tombouctou', 'kattivakkam', 'kruisfontein', 'parkes', 'lagoa', 'hambantota', 'madimba', 'dongning', 'ruteng', 'santa cruz de tenerife', 'zhangjiakou', 'vostok', 'portland', 'brainerd', 'lufilufi', 'kozhva', 'aktau', 'suntar', 'lavrentiya', 'port keats', 'aguimes', 'luangwa', 'garowe', 'cayenne', 'katangli', 'cam ranh', 'atikokan', 'athabasca', 'carmen', 'simdega', 'narsaq', 'evensk', 'verkhoyansk', 'opuwo', 'bengkulu', 'valparaiso', 'mayumba', 'ust-maya', 'ayan', 'churapcha', 'okhotsk', 'tlahualilo', 'zhezkazgan', 'sao filipe', 'tessalit', 'vila franca do campo', 'constitucion', 'sola', 'plainview', 'isangel', 'sarkand', 'nanortalik', 'razvilnoye', 'paita', 'kodiak', 'makakilo city', 'santiago del estero', 'port lincoln', 'pombas', 'hun', 'trinidad', 'bairiki', 'xai-xai', 'kefamenanu', 'cherskiy', 'balkanabat', 'kurumkan', 'seymchan', 'kamaishi', 'gazli', 'san andres', 'itarema', 'port macquarie', 'salinas', 'ushtobe', 'dingle', 'nakamura', 'kibala', 'cuilco', 'northam', 'amuntai', 'berdigestyakh', 'ostrovnoy', 'gondanglegi', 'les cayes', 'taoudenni', 'grafton', 'tulum', 'denpasar', 'kaputa', 'ulladulla', 'gdansk', 'lebu', 'muros', 'puerto colombia', 'tiznit', 'ribeira grande', 'assiniboia', 'talawdi', 'coldingham', 'kralendijk', 'iqaluit', 'ambilobe', 'hunza', 'mankono', 'kysyl-syr', 'brigantine', 'deep river', 'gamba', 'fortuna', 'paamiut', 'porto novo', 'ati', 'kanke', 'macheng', 'beruwala', 'upernavik', 'kalundborg', 'sumbe', 'sobolevo', 'tigil', 'tilichiki', 'alyangula', 'hohhot', 'panama city', 'bull savanna', 'karratha', 'kosh-agach', 'sergeyevka', 'lieksa', 'aller', 'rocha', 'viedma', 'srednekolymsk', 'edd', 'cabedelo', 'tunduru', 'bandar-e torkaman', 'peniche', 'luderitz', 'zhigansk', 'chuy', 'akyab', 'klaksvik', 'boyolangu', 'nishihara', 'biak', 'haibowan', 'nenjiang', 'palana', 'yenagoa', 'bandiagara', 'yomitan', 'linxia', 'honiara', 'saint-leu', 'pangnirtung', 'saint george', 'teahupoo', 'zhanakorgan', 'lemesos', 'nioro', 'udachnyy', 'coquimbo', 'arrecife', 'dzerzhinskoye', 'gacko', 'villaviciosa', 'tocopilla', 'hasaki', 'pacific grove', 'raton', 'ankazoabo', 'pisco', 'mikhaylovka', 'verkhnevilyuysk', 'bulgan', 'sao sebastiao', 'xining', 'tsihombe', 'szentes', 'kodinsk', 'morki', 'vung tau', 'lagos', 'ketchikan', 'astara', 'dalvik', 'bowen', 'hefei', 'tandil', 'sao joao da barra', 'north myrtle beach', 'kokuy', 'vila velha', 'vigrestad', 'oranjemund', 'hokitika', 'zaysan', 'bahia blanca', 'seoul', 'miracatu', 'tchollire', 'coahuayana', 'amahai', 'smolyaninovo', 'saint-francois', 'oltina', 'yaan', 'heinola', 'brae', 'grand centre', 'saint anthony', 'bathsheba', 'borogontsy', 'raglan', 'sinop', 'bayevo', 'natal', 'pedasi', 'taltal', 'warqla', 'sinnamary', 'flinders', 'san rafael', 'kuantan', 'andrews', 'upington', 'pevek', 'krotovka', 'leshukonskoye', 'north branch', 'bansang', 'westpunt', 'koindu', 'sokyryany', 'gualaquiza', 'filadelfia', 'biltine', 'gimli', 'lepley', 'izacic', 'general pico', 'ancud', 'kropachevo', 'hofn', 'juneau', 'burns lake', 'talnakh', 'palabuhanratu', 'port blair', 'tanete', 'beyneu', 'omboue', 'alexandria', 'kongoussi', 'samoylovka', 'vicuna', 'rio gallegos', 'poros', 'ixtapa', 'oussouye', 'beipiao', 'chancay', 'kungurtug', 'tura', 'nemuro', 'aleppo', 'ust-tsilma', 'atbasar', 'bayan', 'camacha', 'bilibino', 'zima', 'alta floresta', 'kenora', 'walvis bay', 'aswan', 'iskateley', 'rupert', 'ciudad bolivar', 'gorontalo', 'catalina', 'honningsvag', 'colares', 'krymsk', 'puerto baquerizo moreno', 'ngukurr', 'vestmannaeyjar', 'ishigaki', 'waipawa', 'itoman', 'tahoua', 'erzin', 'champerico', 'yumen', 'aloleng', 'san luis', 'grindavik', 'tsiroanomandidy', 'inhambane', 'makaha', 'tukan', 'dzhusaly', 'doctor arroyo', 'yulara', 'kieta', 'comodoro rivadavia', 'san quintin', 'umm lajj', 'kikwit', 'baiyin', 'mogadishu', 'shingu', 'kazalinsk', 'alofi', 'karakendzha', 'beisfjord', 'rio grande', 'puerto narino', 'sungaipenuh', 'ubajara', 'paradwip', 'namibe', 'boguchany', 'concordia', 'lerwick', 'vanimo', 'fortuna foothills', 'hovd', 'lincoln', 'dicabisagan', 'bac lieu', 'kamenka', 'lac du bonnet', 'sorong', 'vestmanna', 'dukat', 'kapoeta', 'rawson', 'carsamba', 'gariadhar', 'moose factory', 'shimoda', 'santa barbara', 'phan rang', 'poli', 'sauda', 'kroya']\n"
     ]
    }
   ],
   "source": [
    "print(cities)\n"
   ]
  },
  {
   "cell_type": "code",
   "execution_count": 17,
   "metadata": {},
   "outputs": [
    {
     "data": {
      "text/html": [
       "<div>\n",
       "<style scoped>\n",
       "    .dataframe tbody tr th:only-of-type {\n",
       "        vertical-align: middle;\n",
       "    }\n",
       "\n",
       "    .dataframe tbody tr th {\n",
       "        vertical-align: top;\n",
       "    }\n",
       "\n",
       "    .dataframe thead th {\n",
       "        text-align: right;\n",
       "    }\n",
       "</style>\n",
       "<table border=\"1\" class=\"dataframe\">\n",
       "  <thead>\n",
       "    <tr style=\"text-align: right;\">\n",
       "      <th></th>\n",
       "      <th>0</th>\n",
       "    </tr>\n",
       "  </thead>\n",
       "  <tbody>\n",
       "    <tr>\n",
       "      <th>0</th>\n",
       "      <td>louisbourg</td>\n",
       "    </tr>\n",
       "    <tr>\n",
       "      <th>1</th>\n",
       "      <td>rikitea</td>\n",
       "    </tr>\n",
       "    <tr>\n",
       "      <th>2</th>\n",
       "      <td>xiongzhou</td>\n",
       "    </tr>\n",
       "    <tr>\n",
       "      <th>3</th>\n",
       "      <td>calvinia</td>\n",
       "    </tr>\n",
       "    <tr>\n",
       "      <th>4</th>\n",
       "      <td>fairbanks</td>\n",
       "    </tr>\n",
       "  </tbody>\n",
       "</table>\n",
       "</div>"
      ],
      "text/plain": [
       "            0\n",
       "0  louisbourg\n",
       "1     rikitea\n",
       "2   xiongzhou\n",
       "3    calvinia\n",
       "4   fairbanks"
      ]
     },
     "execution_count": 17,
     "metadata": {},
     "output_type": "execute_result"
    }
   ],
   "source": [
    "random_cities_df = pd.DataFrame(cities)\n",
    "\n",
    "random_cities_df.columns = random_cities_df.columns.astype(str)\n",
    "\n",
    "random_cities_df.columns.map(type)\n",
    "# result = Index([<class 'str'>], dtype='object')\n",
    "\n",
    "\n",
    "random_cities_df.head()\n"
   ]
  },
  {
   "cell_type": "code",
   "execution_count": 19,
   "metadata": {},
   "outputs": [
    {
     "data": {
      "text/html": [
       "<div>\n",
       "<style scoped>\n",
       "    .dataframe tbody tr th:only-of-type {\n",
       "        vertical-align: middle;\n",
       "    }\n",
       "\n",
       "    .dataframe tbody tr th {\n",
       "        vertical-align: top;\n",
       "    }\n",
       "\n",
       "    .dataframe thead th {\n",
       "        text-align: right;\n",
       "    }\n",
       "</style>\n",
       "<table border=\"1\" class=\"dataframe\">\n",
       "  <thead>\n",
       "    <tr style=\"text-align: right;\">\n",
       "      <th></th>\n",
       "      <th>CityR</th>\n",
       "    </tr>\n",
       "  </thead>\n",
       "  <tbody>\n",
       "    <tr>\n",
       "      <th>0</th>\n",
       "      <td>louisbourg</td>\n",
       "    </tr>\n",
       "    <tr>\n",
       "      <th>1</th>\n",
       "      <td>rikitea</td>\n",
       "    </tr>\n",
       "    <tr>\n",
       "      <th>2</th>\n",
       "      <td>xiongzhou</td>\n",
       "    </tr>\n",
       "    <tr>\n",
       "      <th>3</th>\n",
       "      <td>calvinia</td>\n",
       "    </tr>\n",
       "    <tr>\n",
       "      <th>4</th>\n",
       "      <td>fairbanks</td>\n",
       "    </tr>\n",
       "  </tbody>\n",
       "</table>\n",
       "</div>"
      ],
      "text/plain": [
       "        CityR\n",
       "0  louisbourg\n",
       "1     rikitea\n",
       "2   xiongzhou\n",
       "3    calvinia\n",
       "4   fairbanks"
      ]
     },
     "execution_count": 19,
     "metadata": {},
     "output_type": "execute_result"
    }
   ],
   "source": [
    "# Using .rename(columns={}) in order to rename columns\n",
    "\n",
    "renamed_df = random_cities_df.rename(columns={\"0\":\"CityR\"})\n",
    "renamed_df.head()"
   ]
  },
  {
   "cell_type": "code",
   "execution_count": 30,
   "metadata": {
    "scrolled": true
   },
   "outputs": [
    {
     "ename": "SyntaxError",
     "evalue": "invalid syntax (<ipython-input-30-a8617523c75a>, line 3)",
     "output_type": "error",
     "traceback": [
      "\u001b[0;36m  File \u001b[0;32m\"<ipython-input-30-a8617523c75a>\"\u001b[0;36m, line \u001b[0;32m3\u001b[0m\n\u001b[0;31m    city = [[0]random_cities_df]\u001b[0m\n\u001b[0m                              ^\u001b[0m\n\u001b[0;31mSyntaxError\u001b[0m\u001b[0;31m:\u001b[0m invalid syntax\n"
     ]
    }
   ],
   "source": [
    "# using request.get for cities from openweathermap\n",
    "\n",
    "city = \n",
    "temp = []\n",
    "clouds = []\n",
    "humidity = []\n",
    "\n",
    "\n",
    "\n",
    "for city in cities:\n",
    "    response = requests.get(query_url + city).json()\n",
    "    lat.append(response['coord']['lat'])\n",
    "    temp.append(response['main']['temp'])\n",
    "    \n",
    "print(f\"The latitude information received is: {lat}\")\n",
    "print(f\"The temperature information received is: {temp}\")    \n",
    "     "
   ]
  },
  {
   "cell_type": "code",
   "execution_count": null,
   "metadata": {},
   "outputs": [],
   "source": []
  },
  {
   "cell_type": "code",
   "execution_count": 46,
   "metadata": {},
   "outputs": [
    {
     "ename": "ValueError",
     "evalue": "arrays must all be same length",
     "output_type": "error",
     "traceback": [
      "\u001b[0;31m---------------------------------------------------------------------------\u001b[0m",
      "\u001b[0;31mValueError\u001b[0m                                Traceback (most recent call last)",
      "\u001b[0;32m<ipython-input-46-72410c1993c7>\u001b[0m in \u001b[0;36m<module>\u001b[0;34m()\u001b[0m\n\u001b[1;32m      6\u001b[0m     \u001b[0;34m\"temp\"\u001b[0m\u001b[0;34m:\u001b[0m \u001b[0mtemp\u001b[0m\u001b[0;34m\u001b[0m\u001b[0m\n\u001b[1;32m      7\u001b[0m }\n\u001b[0;32m----> 8\u001b[0;31m \u001b[0mweather_data\u001b[0m \u001b[0;34m=\u001b[0m \u001b[0mpd\u001b[0m\u001b[0;34m.\u001b[0m\u001b[0mDataFrame\u001b[0m\u001b[0;34m(\u001b[0m\u001b[0mweather_dict\u001b[0m\u001b[0;34m)\u001b[0m\u001b[0;34m\u001b[0m\u001b[0m\n\u001b[0m\u001b[1;32m      9\u001b[0m \u001b[0mweather_data\u001b[0m\u001b[0;34m.\u001b[0m\u001b[0mhead\u001b[0m\u001b[0;34m(\u001b[0m\u001b[0;34m)\u001b[0m\u001b[0;34m\u001b[0m\u001b[0m\n",
      "\u001b[0;32m/anaconda3/envs/PythonData/lib/python3.6/site-packages/pandas/core/frame.py\u001b[0m in \u001b[0;36m__init__\u001b[0;34m(self, data, index, columns, dtype, copy)\u001b[0m\n\u001b[1;32m    328\u001b[0m                                  dtype=dtype, copy=copy)\n\u001b[1;32m    329\u001b[0m         \u001b[0;32melif\u001b[0m \u001b[0misinstance\u001b[0m\u001b[0;34m(\u001b[0m\u001b[0mdata\u001b[0m\u001b[0;34m,\u001b[0m \u001b[0mdict\u001b[0m\u001b[0;34m)\u001b[0m\u001b[0;34m:\u001b[0m\u001b[0;34m\u001b[0m\u001b[0m\n\u001b[0;32m--> 330\u001b[0;31m             \u001b[0mmgr\u001b[0m \u001b[0;34m=\u001b[0m \u001b[0mself\u001b[0m\u001b[0;34m.\u001b[0m\u001b[0m_init_dict\u001b[0m\u001b[0;34m(\u001b[0m\u001b[0mdata\u001b[0m\u001b[0;34m,\u001b[0m \u001b[0mindex\u001b[0m\u001b[0;34m,\u001b[0m \u001b[0mcolumns\u001b[0m\u001b[0;34m,\u001b[0m \u001b[0mdtype\u001b[0m\u001b[0;34m=\u001b[0m\u001b[0mdtype\u001b[0m\u001b[0;34m)\u001b[0m\u001b[0;34m\u001b[0m\u001b[0m\n\u001b[0m\u001b[1;32m    331\u001b[0m         \u001b[0;32melif\u001b[0m \u001b[0misinstance\u001b[0m\u001b[0;34m(\u001b[0m\u001b[0mdata\u001b[0m\u001b[0;34m,\u001b[0m \u001b[0mma\u001b[0m\u001b[0;34m.\u001b[0m\u001b[0mMaskedArray\u001b[0m\u001b[0;34m)\u001b[0m\u001b[0;34m:\u001b[0m\u001b[0;34m\u001b[0m\u001b[0m\n\u001b[1;32m    332\u001b[0m             \u001b[0;32mimport\u001b[0m \u001b[0mnumpy\u001b[0m\u001b[0;34m.\u001b[0m\u001b[0mma\u001b[0m\u001b[0;34m.\u001b[0m\u001b[0mmrecords\u001b[0m \u001b[0;32mas\u001b[0m \u001b[0mmrecords\u001b[0m\u001b[0;34m\u001b[0m\u001b[0m\n",
      "\u001b[0;32m/anaconda3/envs/PythonData/lib/python3.6/site-packages/pandas/core/frame.py\u001b[0m in \u001b[0;36m_init_dict\u001b[0;34m(self, data, index, columns, dtype)\u001b[0m\n\u001b[1;32m    459\u001b[0m             \u001b[0marrays\u001b[0m \u001b[0;34m=\u001b[0m \u001b[0;34m[\u001b[0m\u001b[0mdata\u001b[0m\u001b[0;34m[\u001b[0m\u001b[0mk\u001b[0m\u001b[0;34m]\u001b[0m \u001b[0;32mfor\u001b[0m \u001b[0mk\u001b[0m \u001b[0;32min\u001b[0m \u001b[0mkeys\u001b[0m\u001b[0;34m]\u001b[0m\u001b[0;34m\u001b[0m\u001b[0m\n\u001b[1;32m    460\u001b[0m \u001b[0;34m\u001b[0m\u001b[0m\n\u001b[0;32m--> 461\u001b[0;31m         \u001b[0;32mreturn\u001b[0m \u001b[0m_arrays_to_mgr\u001b[0m\u001b[0;34m(\u001b[0m\u001b[0marrays\u001b[0m\u001b[0;34m,\u001b[0m \u001b[0mdata_names\u001b[0m\u001b[0;34m,\u001b[0m \u001b[0mindex\u001b[0m\u001b[0;34m,\u001b[0m \u001b[0mcolumns\u001b[0m\u001b[0;34m,\u001b[0m \u001b[0mdtype\u001b[0m\u001b[0;34m=\u001b[0m\u001b[0mdtype\u001b[0m\u001b[0;34m)\u001b[0m\u001b[0;34m\u001b[0m\u001b[0m\n\u001b[0m\u001b[1;32m    462\u001b[0m \u001b[0;34m\u001b[0m\u001b[0m\n\u001b[1;32m    463\u001b[0m     \u001b[0;32mdef\u001b[0m \u001b[0m_init_ndarray\u001b[0m\u001b[0;34m(\u001b[0m\u001b[0mself\u001b[0m\u001b[0;34m,\u001b[0m \u001b[0mvalues\u001b[0m\u001b[0;34m,\u001b[0m \u001b[0mindex\u001b[0m\u001b[0;34m,\u001b[0m \u001b[0mcolumns\u001b[0m\u001b[0;34m,\u001b[0m \u001b[0mdtype\u001b[0m\u001b[0;34m=\u001b[0m\u001b[0;32mNone\u001b[0m\u001b[0;34m,\u001b[0m \u001b[0mcopy\u001b[0m\u001b[0;34m=\u001b[0m\u001b[0;32mFalse\u001b[0m\u001b[0;34m)\u001b[0m\u001b[0;34m:\u001b[0m\u001b[0;34m\u001b[0m\u001b[0m\n",
      "\u001b[0;32m/anaconda3/envs/PythonData/lib/python3.6/site-packages/pandas/core/frame.py\u001b[0m in \u001b[0;36m_arrays_to_mgr\u001b[0;34m(arrays, arr_names, index, columns, dtype)\u001b[0m\n\u001b[1;32m   6161\u001b[0m     \u001b[0;31m# figure out the index, if necessary\u001b[0m\u001b[0;34m\u001b[0m\u001b[0;34m\u001b[0m\u001b[0m\n\u001b[1;32m   6162\u001b[0m     \u001b[0;32mif\u001b[0m \u001b[0mindex\u001b[0m \u001b[0;32mis\u001b[0m \u001b[0;32mNone\u001b[0m\u001b[0;34m:\u001b[0m\u001b[0;34m\u001b[0m\u001b[0m\n\u001b[0;32m-> 6163\u001b[0;31m         \u001b[0mindex\u001b[0m \u001b[0;34m=\u001b[0m \u001b[0mextract_index\u001b[0m\u001b[0;34m(\u001b[0m\u001b[0marrays\u001b[0m\u001b[0;34m)\u001b[0m\u001b[0;34m\u001b[0m\u001b[0m\n\u001b[0m\u001b[1;32m   6164\u001b[0m     \u001b[0;32melse\u001b[0m\u001b[0;34m:\u001b[0m\u001b[0;34m\u001b[0m\u001b[0m\n\u001b[1;32m   6165\u001b[0m         \u001b[0mindex\u001b[0m \u001b[0;34m=\u001b[0m \u001b[0m_ensure_index\u001b[0m\u001b[0;34m(\u001b[0m\u001b[0mindex\u001b[0m\u001b[0;34m)\u001b[0m\u001b[0;34m\u001b[0m\u001b[0m\n",
      "\u001b[0;32m/anaconda3/envs/PythonData/lib/python3.6/site-packages/pandas/core/frame.py\u001b[0m in \u001b[0;36mextract_index\u001b[0;34m(data)\u001b[0m\n\u001b[1;32m   6209\u001b[0m             \u001b[0mlengths\u001b[0m \u001b[0;34m=\u001b[0m \u001b[0mlist\u001b[0m\u001b[0;34m(\u001b[0m\u001b[0mset\u001b[0m\u001b[0;34m(\u001b[0m\u001b[0mraw_lengths\u001b[0m\u001b[0;34m)\u001b[0m\u001b[0;34m)\u001b[0m\u001b[0;34m\u001b[0m\u001b[0m\n\u001b[1;32m   6210\u001b[0m             \u001b[0;32mif\u001b[0m \u001b[0mlen\u001b[0m\u001b[0;34m(\u001b[0m\u001b[0mlengths\u001b[0m\u001b[0;34m)\u001b[0m \u001b[0;34m>\u001b[0m \u001b[0;36m1\u001b[0m\u001b[0;34m:\u001b[0m\u001b[0;34m\u001b[0m\u001b[0m\n\u001b[0;32m-> 6211\u001b[0;31m                 \u001b[0;32mraise\u001b[0m \u001b[0mValueError\u001b[0m\u001b[0;34m(\u001b[0m\u001b[0;34m'arrays must all be same length'\u001b[0m\u001b[0;34m)\u001b[0m\u001b[0;34m\u001b[0m\u001b[0m\n\u001b[0m\u001b[1;32m   6212\u001b[0m \u001b[0;34m\u001b[0m\u001b[0m\n\u001b[1;32m   6213\u001b[0m             \u001b[0;32mif\u001b[0m \u001b[0mhave_dicts\u001b[0m\u001b[0;34m:\u001b[0m\u001b[0;34m\u001b[0m\u001b[0m\n",
      "\u001b[0;31mValueError\u001b[0m: arrays must all be same length"
     ]
    }
   ],
   "source": [
    "# Dataframe from cities, lat, temp lists\n",
    "\n",
    "weather_dict = {\n",
    "    \"city\": cities,\n",
    "    \"lat\": lat,\n",
    "    \"temp\": temp,\n",
    "    \"clouds\": clouds,\n",
    "    \"humidity\": humidity\n",
    "}\n",
    "weather_data = pd.DataFrame(weather_dict)\n",
    "weather_data.head()"
   ]
  },
  {
   "cell_type": "code",
   "execution_count": null,
   "metadata": {},
   "outputs": [],
   "source": []
  },
  {
   "cell_type": "code",
   "execution_count": null,
   "metadata": {},
   "outputs": [],
   "source": []
  },
  {
   "cell_type": "code",
   "execution_count": null,
   "metadata": {},
   "outputs": [],
   "source": []
  },
  {
   "cell_type": "code",
   "execution_count": null,
   "metadata": {},
   "outputs": [],
   "source": []
  },
  {
   "cell_type": "code",
   "execution_count": null,
   "metadata": {},
   "outputs": [],
   "source": []
  },
  {
   "cell_type": "code",
   "execution_count": null,
   "metadata": {},
   "outputs": [],
   "source": []
  }
 ],
 "metadata": {
  "kernelspec": {
   "display_name": "Python 3",
   "language": "python",
   "name": "python3"
  },
  "language_info": {
   "codemirror_mode": {
    "name": "ipython",
    "version": 3
   },
   "file_extension": ".py",
   "mimetype": "text/x-python",
   "name": "python",
   "nbconvert_exporter": "python",
   "pygments_lexer": "ipython3",
   "version": "3.6.4"
  }
 },
 "nbformat": 4,
 "nbformat_minor": 2
}
