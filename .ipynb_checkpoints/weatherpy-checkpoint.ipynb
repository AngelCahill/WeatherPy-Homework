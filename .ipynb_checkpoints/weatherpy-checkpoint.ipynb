{
 "cells": [
  {
   "cell_type": "code",
   "execution_count": 1,
   "metadata": {},
   "outputs": [],
   "source": [
    "#Your objective is to build a series of scatter plots to showcase the following relationships:\n",
    "\n",
    "\n",
    "#Temperature (F) vs. Latitude\n",
    "#Humidity (%) vs. Latitude\n",
    "#Cloudiness (%) vs. Latitude\n",
    "#Wind Speed (mph) vs. Latitude\n",
    "\n",
    "#Your final notebook must:\n",
    "\n",
    "\n",
    "## Randomly select at least 500 unique (non-repeat) cities based on latitude and longitude.\n",
    "## Perform a weather check on each of the cities using a series of successive API calls.\n",
    "## Include a print log of each city as it's being processed with the city number and city name.\n",
    "## Save both a CSV of all data retrieved and png images for each scatter plot.\n",
    "\n",
    "\n",
    "#As final considerations:\n",
    "\n",
    "\n",
    "## You must complete your analysis using a Jupyter notebook.\n",
    "## You must use the Matplotlib or Pandas plotting libraries.\n",
    "## You must include a written description of three observable trends based on the data.\n",
    "## You must use proper labeling of your plots, including aspects like: Plot Titles (with date of analysis) and Axes Labels.\n",
    "# with gridlines\n"
   ]
  },
  {
   "cell_type": "code",
   "execution_count": 2,
   "metadata": {},
   "outputs": [],
   "source": [
    "# Dependencies and Setup\n",
    "import matplotlib.pyplot as plt\n",
    "import pandas as pd\n",
    "import numpy as np\n",
    "import requests\n",
    "import time\n",
    "import json\n",
    "import requests\n",
    "\n",
    "\n",
    "# Incorporated citipy to determine city based on latitude and longitude\n",
    "from citipy import citipy\n",
    "\n",
    "# Output File (CSV)\n",
    "output_data_file = \"output_data/cities.csv\"\n",
    "\n",
    "# Range of latitudes and longitudes\n",
    "lat_range = (-90, 90)\n",
    "lng_range = (-180, 180)\n",
    "\n"
   ]
  },
  {
   "cell_type": "code",
   "execution_count": 3,
   "metadata": {},
   "outputs": [],
   "source": [
    "from config import api_key"
   ]
  },
  {
   "cell_type": "code",
   "execution_count": 4,
   "metadata": {},
   "outputs": [],
   "source": [
    "\n",
    "\n",
    "# Starting URL for Weather Map API Call\n",
    "#url = \"http://api.openweathermap.org/data/2.5/weather?units=Imperial&APPID=\" + api_key\n",
    "\n",
    "\n",
    "\n"
   ]
  },
  {
   "cell_type": "code",
   "execution_count": 5,
   "metadata": {},
   "outputs": [],
   "source": [
    "# Save config information.\n",
    "url = \"http://api.openweathermap.org/data/2.5/weather?\"\n",
    "units = \"Imperial\"\n",
    "\n",
    "# Build partial query URL\n",
    "query_url = f\"{url}appid={api_key}&units={units}&q=\""
   ]
  },
  {
   "cell_type": "code",
   "execution_count": 6,
   "metadata": {},
   "outputs": [],
   "source": [
    "# testing citipy\n",
    "\n",
    "#city = citipy.nearest_city(0, 0)\n",
    "\n",
    "#city.city_name"
   ]
  },
  {
   "cell_type": "code",
   "execution_count": 7,
   "metadata": {},
   "outputs": [
    {
     "data": {
      "text/plain": [
       "637"
      ]
     },
     "execution_count": 7,
     "metadata": {},
     "output_type": "execute_result"
    }
   ],
   "source": [
    "# List for holding lat_lngs and cities\n",
    "lat_lngs = []\n",
    "cities = []\n",
    "\n",
    "# Create a set of random lat and lng combinations\n",
    "lats = np.random.uniform(low=-90.000, high=90.000, size=1500)\n",
    "lngs = np.random.uniform(low=-180.000, high=180.000, size=1500)\n",
    "lat_lngs = zip(lats, lngs)\n",
    "\n",
    "# Identify nearest city for each lat, lng combination\n",
    "for lat_lng in lat_lngs:\n",
    "    city = citipy.nearest_city(lat_lng[0], lat_lng[1]).city_name\n",
    "    \n",
    "    # If the city is unique, then add it to a our cities list\n",
    "    if city not in cities:\n",
    "        cities.append(city)\n",
    "\n",
    "# Print the city count to confirm sufficient count\n",
    "\n",
    "len(cities)\n",
    "\n"
   ]
  },
  {
   "cell_type": "code",
   "execution_count": 8,
   "metadata": {},
   "outputs": [
    {
     "name": "stdout",
     "output_type": "stream",
     "text": [
      "['yellowknife', 'port alfred', 'kavaratti', 'ushuaia', 'bredasdorp', 'khani', 'ribeira grande', 'arraial do cabo', 'kapaa', 'san cristobal', 'hermanus', 'nova olimpia', 'rikitea', 'berlevag', 'karaul', 'leh', 'mar del plata', 'la ronge', 'khalkhal', 'quesnel', 'necochea', 'bose', 'torbay', 'nikolskoye', 'mataura', 'tasiilaq', 'the valley', 'bethel', 'guira de melena', 'punta arenas', 'butaritari', 'avarua', 'aksarka', 'riverton', 'mys shmidta', 'carnarvon', 'iqaluit', 'omama', 'faanui', 'hobart', 'illoqqortoormiut', 'dikson', 'alihe', 'kirovskiy', 'killybegs', 'kaitangata', 'kalaleh', 'airai', 'provideniya', 'ponta do sol', 'belushya guba', 'evensk', 'chuy', 'elizabeth city', 'dingle', 'madang', 'saldanha', 'atuona', 'sabha', 'shenjiamen', 'grand gaube', 'blackwater', 'tuktoyaktuk', 'santa cruz de tenerife', 'louisbourg', 'sorland', 'bosaso', 'vaini', 'albany', 'haibowan', 'flin flon', 'puerto ayora', 'kavieng', 'kodiak', 'surt', 'sept-iles', 'oum hadjer', 'saint-philippe', 'bluff', 'cabedelo', 'parrita', 'paliyad', 'dawson creek', 'port hardy', 'malwan', 'thompson', 'santa lucia', 'narsaq', 'quartucciu', 'meadow lake', 'kabompo', 'bathsheba', 'pitimbu', 'jamestown', 'kahului', 'stoyba', 'esperance', 'hilo', 'chapais', 'busselton', 'falealupo', 'banda aceh', 'georgetown', 'lavrentiya', 'barentsburg', 'antofagasta', 'grindavik', 'beira', 'hayden', 'vila velha', 'saint george', 'lebu', 'sinnamary', 'biak', 'gat', 'shangqiu', 'broken hill', 'tura', 'chengde', 'tual', 'banjar', 'luxor', 'lengshuitan', 'tecoanapa', 'lazaro cardenas', 'ron', 'strezhevoy', 'cidreira', 'gorodishche', 'pushkino', 'charlestown', 'husavik', 'new norfolk', 'khatanga', 'taolanaro', 'preobrazheniye', 'jamame', 'katsuura', 'santa rosa', 'boca do acre', 'saleaula', 'rocha', 'lorengau', 'faya', 'tilichiki', 'vila', 'grand river south east', 'nanortalik', 'cumaribo', 'piterka', 'saint anthony', 'frontera', 'birjand', 'upernavik', 'qaanaaq', 'el reno', 'poum', 'victoria point', 'nizhniy odes', 'wahran', 'norman wells', 'port elizabeth', 'manzanillo', 'marsh harbour', 'tuatapere', 'arima', 'bolungarvik', 'camalu', 'severo-kurilsk', 'panaba', 'tigil', 'bengkulu', 'chokurdakh', 'hithadhoo', 'castro', 'sola', 'havre-saint-pierre', 'laramie', 'taltal', 'sambava', 'cherskiy', 'tessalit', 'yaan', 'aporawan', 'ilo', 'le port', 'bintulu', 'mizan teferi', 'yulara', 'barrow', 'van', 'uige', 'goure', 'yining', 'leningradskiy', 'port pirie', 'nizhneyansk', 'udachnyy', 'reyes', 'caucaia', 'riyadh', 'ahipara', 'iberia', 'tiksi', 'clyde river', 'pemangkat', 'sitka', 'fort-shevchenko', 'kamaishi', 'westport', 'armacao dos buzios', 'qasigiannguit', 'peniche', 'sarakhs', 'te anau', 'den helder', 'cape town', 'alofi', 'dunedin', 'ust-omchug', 'savannah bight', 'makat', 'nandu', 'lolua', 'mikhaylovka', 'sioux lookout', 'hasaki', 'banepa', 'emba', 'teluknaga', 'tromso', 'ilulissat', 'rawson', 'malanje', 'hachinohe', 'biltine', 'turayf', 'mehamn', 'khagrachari', 'longyearbyen', 'lakefield', 'qaqortoq', 'arkhara', 'cockburn town', 'pisco', 'paso de carrasco', 'luganville', 'sentyabrskiy', 'honiara', 'eirunepe', 'warqla', 'east london', 'souillac', 'lhokseumawe', 'kibaya', 'talnakh', 'deputatskiy', 'kati', 'christchurch', 'oksfjord', 'mercedes', 'lakes entrance', 'lompoc', 'kloulklubed', 'sorvag', 'vikhorevka', 'hofn', 'tabora', 'korla', 'jaisalmer', 'esmeraldas', 'xining', 'constitucion', 'tumannyy', 'massillon', 'sao jose da coroa grande', 'port-gentil', 'sur', 'goundam', 'lagoa', 'shuangcheng', 'samalaeulu', 'cabo san lucas', 'lata', 'jiamusi', 'qinhuangdao', 'itoman', 'sibolga', 'wanaka', 'bara', 'klaksvik', 'isangel', 'arawa', 'yairipok', 'osypenko', 'zabid', 'manjacaze', 'qarqin', 'malm', 'la libertad', 'crab hill', 'guerrero negro', 'fort nelson', 'koungou', 'samarai', 'doha', 'inderborskiy', 'linfen', 'menongue', 'saint-pierre', 'jinchengjiang', 'vao', 'phan rang', 'yuzhno-kurilsk', 'houma', 'nguiu', 'palabuhanratu', 'penzance', 'certegui', 'salalah', 'waingapu', 'semporna', 'sabang', 'pangnirtung', 'kovur', 'merrill', 'siocon', 'praia', 'cam pha', 'san patricio', 'khilok', 'port macquarie', 'prado', 'carahue', 'tazmalt', 'solovetskiy', 'aksu', 'asfi', 'amderma', 'moron', 'lasa', 'zhongxing', 'touros', 'meulaboh', 'vestmanna', 'port-cartier', 'puerto escondido', 'guelengdeng', 'luderitz', 'uruguaiana', 'soyo', 'taoudenni', 'wurzen', 'san rafael del sur', 'san benito', 'pangai', 'xam nua', 'ostrovnoy', 'mokhsogollokh', 'yarmouth', 'nome', 'petropavlovsk-kamchatskiy', 'kholm-zhirkovskiy', 'santa helena de goias', 'santa cruz del sur', 'clonakilty', 'libreville', 'altamira', 'mabaruma', 'casablanca', 'tsihombe', 'mitu', 'tabas', 'sijunjung', 'sri aman', 'beloha', 'naliya', 'puerto lopez', 'anadyr', 'sao felix do xingu', 'padang', 'goderich', 'marica', 'ambon', 'north vernon', 'brigham city', 'chandia', 'puerto baquerizo moreno', 'kungurtug', 'vardo', 'acarau', 'geraldton', 'mana', 'basco', 'kalmunai', 'ciudad bolivar', 'nalut', 'acoyapa', 'mackay', 'broome', 'barbar', 'fredericksburg', 'champerico', 'san juan bautista', 'chagda', 'hobyo', 'mugla', 'sao filipe', 'gawler', 'bandarbeyla', 'santa cruz', 'kamenskoye', 'namatanai', 'pevek', 'hopelchen', 'canitas', 'victoria', 'fairbanks', 'sao joao da barra', 'pamanukan', 'yanam', 'agartala', 'javanrud', 'baykit', 'bambous virieux', 'kruisfontein', 'camapua', 'almaznyy', 'juneau', 'honningsvag', 'ugoofaaru', 'pemba', 'edd', 'canaries', 'adrar', 'cutervo', 'isla mujeres', 'nebolchi', 'nagorsk', 'ereymentau', 'karratha', 'batticaloa', 'brae', 'birao', 'tezu', 'kurumkan', 'umzimvubu', 'parkersburg', 'sao raimundo nonato', 'yumen', 'beringovskiy', 'aktau', 'waipawa', 'buraydah', 'saskylakh', 'praia da vitoria', 'makakilo city', 'coihaique', 'attawapiskat', 'mwingi', 'rio hato', 'la asuncion', 'mrirt', 'myitkyina', 'kaoma', 'marystown', 'bogatyye saby', 'upata', 'buala', 'poso', 'laguna', 'kattivakkam', 'bhadrachalam', 'aykhal', 'hamilton', 'kasungu', 'matagami', 'lampazos de naranjo', 'daru', 'sirjan', 'codrington', 'oranjestad', 'ozinki', 'pavilosta', 'alyangula', 'copiapo', 'nagar karnul', 'mount gambier', 'kununurra', 'xaxim', 'namibe', 'kishi', 'ajaccio', 'karangampel', 'athabasca', 'papenburg', 'cuiluan', 'sao miguel do araguaia', 'salvador', 'saint-francois', 'komsomolskiy', 'launceston', 'dawei', 'port hedland', 'los llanos de aridane', 'san angelo', 'okhotsk', 'cayenne', 'bagua grande', 'napasar', 'jobabo', 'cecina', 'chumikan', 'frederikshavn', 'dwarka', 'hastings', 'timbiqui', 'mahebourg', 'baghdad', 'choya', 'sao miguel do tapuio', 'stornoway', 'cannington', 'haines junction', 'banavar', 'viransehir', 'shiyan', 'grand forks', 'lucapa', 'maiduguri', 'ayan', 'cuencame', 'semirom', 'moratuwa', 'kyra', 'fare', 'acapulco', 'dawlatabad', 'batangafo', 'zonguldak', 'sidi ali', 'sao gabriel da cachoeira', 'solnechnyy', 'hattiesburg', 'neuquen', 'maxixe', 'muisne', 'melchor de mencos', 'halalo', 'togur', 'thinadhoo', 'mumbwa', 'hami', 'roald', 'xuddur', 'flinders', 'dong hoi', 'andilamena', 'havelock', 'asmar', 'fortuna', 'hirara', 'labuhan', 'alice springs', 'san quintin', 'seoul', 'yurimaguas', 'ksenyevka', 'snezhnogorsk', 'gamba', 'tazovskiy', 'portland', 'lagoa formosa', 'saint-joseph', 'pacific grove', 'tuy hoa', 'zaraza', 'kutoarjo', 'gornopravdinsk', 'carballo', 'cururupu', 'guangyuan', 'nouadhibou', 'hoima', 'burica', 'aleksandrov gay', 'asmara', 'tabiauea', 'belovo', 'abonnema', 'shingu', 'miranorte', 'zalantun', 'matay', 'krasnyy chikoy', 'bairiki', 'machakos', 'felipe carrillo puerto', 'miramar', 'meyungs', 'saint-leu', 'soure', 'rio grande', 'saint-felicien', 'conde', 'mandera', 'itarema', 'arlit', 'cabinda', 'aripuana', 'awbari', 'umri', 'shimoda', 'murree', 'palm coast', 'iracoubo', 'erice', 'balud', 'eyl', 'ler', 'tullahoma', 'anloga', 'kracheh', 'prince george', 'tambura', 'shestakovo', 'murgab', 'ancud', 'olafsvik', 'bridlington', 'najran', 'ndioum', 'preobrazhenskaya', 'port augusta', 'naze', 'san lawrenz', 'kalemie']\n"
     ]
    }
   ],
   "source": [
    "print(cities)\n"
   ]
  },
  {
   "cell_type": "code",
   "execution_count": 12,
   "metadata": {
    "scrolled": false
   },
   "outputs": [
    {
     "ename": "SyntaxError",
     "evalue": "unexpected EOF while parsing (<ipython-input-12-efbb01a8f53e>, line 26)",
     "output_type": "error",
     "traceback": [
      "\u001b[0;36m  File \u001b[0;32m\"<ipython-input-12-efbb01a8f53e>\"\u001b[0;36m, line \u001b[0;32m26\u001b[0m\n\u001b[0;31m    \u001b[0m\n\u001b[0m    ^\u001b[0m\n\u001b[0;31mSyntaxError\u001b[0m\u001b[0;31m:\u001b[0m unexpected EOF while parsing\n"
     ]
    }
   ],
   "source": [
    "# using request.get for cities from openweathermap\n",
    "\n",
    "#name = []\n",
    "temp = []\n",
    "humidity = []\n",
    "lat = []\n",
    "#wind = []\n",
    "#clouds = []\n",
    "#speed = []\n",
    "\n",
    "for city in cities:\n",
    "    \n",
    "        response = requests.get(query_url + city).json()\n",
    "        print(response)\n",
    "        try:\n",
    "            lat.append(response['coord']['lat'])\n",
    "        except KeyError:\n",
    "                \n",
    "            print(response)\n",
    "            try:    \n",
    "                temp.append(response['main']['temp'])\n",
    "            except KeyError:   \n",
    "                try:\n",
    "                    humidity.append(response['main']['humidity'])\n",
    "                except KeyError:    \n",
    "                "
   ]
  },
  {
   "cell_type": "code",
   "execution_count": null,
   "metadata": {},
   "outputs": [],
   "source": []
  },
  {
   "cell_type": "code",
   "execution_count": null,
   "metadata": {},
   "outputs": [],
   "source": [
    "# Dataframe from cities, lat, temp lists\n",
    "\n",
    "weather_dict = {\n",
    "    \"city\": name,\n",
    "    \"lat\": lat,\n",
    "    \"temp\": temp,\n",
    "    \"clouds\": clouds,\n",
    "    \"humidity\": humidity\n",
    "    \"wind(mph)\": speed\n",
    "}\n",
    "weather_data = pd.DataFrame(weather_dict)\n",
    "weather_data.head()"
   ]
  },
  {
   "cell_type": "code",
   "execution_count": null,
   "metadata": {},
   "outputs": [],
   "source": [
    "######## not sure if this is needed\n",
    "\n",
    "#random_cities_df = pd.DataFrame(cities)\n",
    "\n",
    "#random_cities_df.columns = random_cities_df.columns.astype(str)\n",
    "\n",
    "#random_cities_df.columns.map(type)\n",
    "\n",
    "## result = Index([<class 'str'>], dtype='object')\n",
    "\n",
    "\n",
    "#random_cities_df.head()\n"
   ]
  },
  {
   "cell_type": "code",
   "execution_count": null,
   "metadata": {},
   "outputs": [],
   "source": [
    "####### not sure if this is needed\n",
    "\n",
    "## Using .rename(columns={}) in order to rename columns\n",
    "\n",
    "#renamed_df = random_cities_df.rename(columns={\"0\":\"City\"})\n",
    "#renamed_df.head()"
   ]
  },
  {
   "cell_type": "code",
   "execution_count": null,
   "metadata": {},
   "outputs": [],
   "source": [
    "# Percentage for temperature"
   ]
  },
  {
   "cell_type": "code",
   "execution_count": null,
   "metadata": {},
   "outputs": [],
   "source": [
    "# Percentage for Humidity"
   ]
  },
  {
   "cell_type": "code",
   "execution_count": null,
   "metadata": {},
   "outputs": [],
   "source": [
    "# Percentage for Cloudiness"
   ]
  },
  {
   "cell_type": "code",
   "execution_count": null,
   "metadata": {},
   "outputs": [],
   "source": [
    "# Percentage for Windspeed"
   ]
  },
  {
   "cell_type": "code",
   "execution_count": null,
   "metadata": {},
   "outputs": [],
   "source": [
    "# Build a scatter plot for each data type\n",
    "plt.scatter(weather_data[\"lat\"], weather_data[\"temp\"], marker=\"o\")\n",
    "\n",
    "# Incorporate the other graph properties\n",
    "plt.title(\"Latitude vs Temperature\")\n",
    "plt.ylabel(\"Temperature (Farenheit)\")\n",
    "plt.xlabel(\"Latitude\")\n",
    "plt.grid(True)\n",
    "\n",
    "# Save the figure\n",
    "plt.savefig(\"LatitudevsTemperature.png\")\n",
    "\n",
    "# Show plot\n",
    "plt.show()"
   ]
  },
  {
   "cell_type": "code",
   "execution_count": null,
   "metadata": {},
   "outputs": [],
   "source": []
  },
  {
   "cell_type": "code",
   "execution_count": null,
   "metadata": {},
   "outputs": [],
   "source": []
  },
  {
   "cell_type": "code",
   "execution_count": null,
   "metadata": {},
   "outputs": [],
   "source": []
  },
  {
   "cell_type": "code",
   "execution_count": null,
   "metadata": {},
   "outputs": [],
   "source": []
  },
  {
   "cell_type": "code",
   "execution_count": null,
   "metadata": {},
   "outputs": [],
   "source": []
  }
 ],
 "metadata": {
  "kernelspec": {
   "display_name": "Python 3",
   "language": "python",
   "name": "python3"
  },
  "language_info": {
   "codemirror_mode": {
    "name": "ipython",
    "version": 3
   },
   "file_extension": ".py",
   "mimetype": "text/x-python",
   "name": "python",
   "nbconvert_exporter": "python",
   "pygments_lexer": "ipython3",
   "version": "3.6.4"
  }
 },
 "nbformat": 4,
 "nbformat_minor": 2
}
